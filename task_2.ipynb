{
 "cells": [
  {
   "cell_type": "code",
   "execution_count": 1,
   "id": "7111cd27",
   "metadata": {},
   "outputs": [
    {
     "name": "stdout",
     "output_type": "stream",
     "text": [
      "21\n"
     ]
    }
   ],
   "source": [
    "# Function for nth fibonacci\n",
    "# number - Dynamic Programming\n",
    "# Taking 1st two fibonacci numbers as 0 and 1\n",
    "FibArray = [0, 1]\n",
    " \n",
    "def fibonacci(n):\n",
    "   \n",
    "    # Check is n is less\n",
    "    # than 0\n",
    "    if n <= 0:\n",
    "        print(\"Incorrect input\")\n",
    "         \n",
    "    # Check is n is less\n",
    "    # than len(FibArray)\n",
    "    elif n <= len(FibArray):\n",
    "        return FibArray[n - 1]\n",
    "    else:\n",
    "        temp_fib = fibonacci(n - 1) +fibonacci(n - 2)\n",
    "        FibArray.append(temp_fib)\n",
    "        return temp_fib\n",
    " \n",
    "# Driver Program\n",
    "print(fibonacci(9))\n",
    " "
   ]
  },
  {
   "cell_type": "code",
   "execution_count": null,
   "id": "76017209",
   "metadata": {},
   "outputs": [],
   "source": []
  }
 ],
 "metadata": {
  "kernelspec": {
   "display_name": "Python 3",
   "language": "python",
   "name": "python3"
  },
  "language_info": {
   "codemirror_mode": {
    "name": "ipython",
    "version": 3
   },
   "file_extension": ".py",
   "mimetype": "text/x-python",
   "name": "python",
   "nbconvert_exporter": "python",
   "pygments_lexer": "ipython3",
   "version": "3.8.8"
  }
 },
 "nbformat": 4,
 "nbformat_minor": 5
}
